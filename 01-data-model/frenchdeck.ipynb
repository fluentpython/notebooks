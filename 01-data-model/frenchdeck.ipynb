{
 "cells": [
  {
   "cell_type": "markdown",
   "id": "8683f614",
   "metadata": {},
   "source": [
    "### Card and Deck objects\n",
    "\n",
    "This notebook contains example code from [*Fluent Python*](http://shop.oreilly.com/product/0636920032519.do), by Luciano Ramalho.\n",
    "\n",
    "Code by Luciano Ramalho, modified by Allen Downey.\n",
    "\n",
    "MIT License: https://opensource.org/licenses/MIT"
   ]
  },
  {
   "cell_type": "markdown",
   "id": "a301e6ce",
   "metadata": {},
   "source": [
    "This example demonstrates the Python data model using a simple implementation of playing cards and decks.\n",
    "\n",
    "`Card` is a namedtuple that represents a playing card."
   ]
  },
  {
   "cell_type": "code",
   "execution_count": 1,
   "id": "60d128c6",
   "metadata": {},
   "outputs": [],
   "source": [
    "import collections\n",
    "\n",
    "Card = collections.namedtuple('Card', ['rank', 'suit'])"
   ]
  },
  {
   "cell_type": "markdown",
   "id": "93253972",
   "metadata": {},
   "source": [
    "`FrenchDeck` is a class that represents a deck of cards."
   ]
  },
  {
   "cell_type": "code",
   "execution_count": 2,
   "id": "12ee5e3f",
   "metadata": {},
   "outputs": [],
   "source": [
    "class FrenchDeck:\n",
    "    ranks = [str(n) for n in range(2, 11)] + list('JQKA')\n",
    "    suits = 'spades diamonds clubs hearts'.split()\n",
    "\n",
    "    def __init__(self):\n",
    "        self._cards = [Card(rank, suit) for suit in self.suits\n",
    "                                        for rank in self.ranks]\n",
    "\n",
    "    def __len__(self):\n",
    "        return len(self._cards)\n",
    "\n",
    "    def __getitem__(self, position):\n",
    "        return self._cards[position]"
   ]
  },
  {
   "cell_type": "markdown",
   "id": "612a5505",
   "metadata": {},
   "source": [
    "You can instantiate a `Card` object as if `Card` were a class.\n",
    "\n",
    "BTW: [beer card](https://en.wikipedia.org/wiki/Beer_card)"
   ]
  },
  {
   "cell_type": "code",
   "execution_count": 3,
   "id": "f840e176",
   "metadata": {},
   "outputs": [
    {
     "data": {
      "text/plain": [
       "Card(rank='7', suit='diamonds')"
      ]
     },
     "execution_count": 3,
     "metadata": {},
     "output_type": "execute_result"
    }
   ],
   "source": [
    "beer_card = Card('7', 'diamonds')\n",
    "beer_card"
   ]
  },
  {
   "cell_type": "markdown",
   "id": "4ac7f593",
   "metadata": {},
   "source": [
    "You can access the fields of a card by name."
   ]
  },
  {
   "cell_type": "code",
   "execution_count": 4,
   "id": "4e9cf489",
   "metadata": {},
   "outputs": [
    {
     "data": {
      "text/plain": [
       "('7', 'diamonds')"
      ]
     },
     "execution_count": 4,
     "metadata": {},
     "output_type": "execute_result"
    }
   ],
   "source": [
    "beer_card.rank, beer_card.suit"
   ]
  },
  {
   "cell_type": "markdown",
   "id": "6d8f420b",
   "metadata": {},
   "source": [
    "Or by index."
   ]
  },
  {
   "cell_type": "code",
   "execution_count": 5,
   "id": "087eb2af",
   "metadata": {},
   "outputs": [
    {
     "data": {
      "text/plain": [
       "('7', 'diamonds')"
      ]
     },
     "execution_count": 5,
     "metadata": {},
     "output_type": "execute_result"
    }
   ],
   "source": [
    "beer_card[0], beer_card[1]"
   ]
  },
  {
   "cell_type": "markdown",
   "id": "d5f4a31c",
   "metadata": {},
   "source": [
    "A drawback of using namedtuples is that you can't define methods for them in the usual way.\n",
    "\n",
    "But you can [monkey-patch](https://en.wikipedia.org/wiki/Monkey_patch) them by defining a function and then making it an attribute of `Card`.  For example, here's a function that generates a string representation of a card:"
   ]
  },
  {
   "cell_type": "code",
   "execution_count": 6,
   "id": "d98ced9f",
   "metadata": {},
   "outputs": [
    {
     "data": {
      "text/plain": [
       "'7 of diamonds'"
      ]
     },
     "execution_count": 6,
     "metadata": {},
     "output_type": "execute_result"
    }
   ],
   "source": [
    "def card_to_str(card):\n",
    "    return '%s of %s' % card\n",
    "\n",
    "card_to_str(beer_card)"
   ]
  },
  {
   "cell_type": "markdown",
   "id": "68ac5d52",
   "metadata": {},
   "source": [
    "Here's how we can make that function behave like a method.  When we pass a card to `print`, Python invokes the special method `__str__`"
   ]
  },
  {
   "cell_type": "code",
   "execution_count": 7,
   "id": "93100815",
   "metadata": {},
   "outputs": [
    {
     "name": "stdout",
     "output_type": "stream",
     "text": [
      "7 of diamonds\n"
     ]
    }
   ],
   "source": [
    "Card.__str__ = card_to_str\n",
    "print(beer_card)"
   ]
  },
  {
   "cell_type": "markdown",
   "id": "c661f3e5",
   "metadata": {},
   "source": [
    "Now let's instantiate a `FrenchDeck`.\n",
    "\n",
    "When we call `len`, Python invokes the `__len__` method on the deck. "
   ]
  },
  {
   "cell_type": "code",
   "execution_count": 8,
   "id": "585d44bf",
   "metadata": {},
   "outputs": [
    {
     "data": {
      "text/plain": [
       "52"
      ]
     },
     "execution_count": 8,
     "metadata": {},
     "output_type": "execute_result"
    }
   ],
   "source": [
    "deck = FrenchDeck()\n",
    "len(deck)"
   ]
  },
  {
   "cell_type": "markdown",
   "id": "8e39f095",
   "metadata": {},
   "source": [
    "When we use the bracket operator, Python invokes the `__getitem__` method:"
   ]
  },
  {
   "cell_type": "code",
   "execution_count": 9,
   "id": "13a6f6df",
   "metadata": {},
   "outputs": [
    {
     "data": {
      "text/plain": [
       "Card(rank='5', suit='spades')"
      ]
     },
     "execution_count": 9,
     "metadata": {},
     "output_type": "execute_result"
    }
   ],
   "source": [
    "deck[3]"
   ]
  },
  {
   "cell_type": "markdown",
   "id": "3987de6a",
   "metadata": {},
   "source": [
    "And that means that the slice operator works, too:"
   ]
  },
  {
   "cell_type": "code",
   "execution_count": 10,
   "id": "5ebb8717",
   "metadata": {},
   "outputs": [
    {
     "data": {
      "text/plain": [
       "[Card(rank='2', suit='spades'),\n",
       " Card(rank='3', suit='spades'),\n",
       " Card(rank='4', suit='spades')]"
      ]
     },
     "execution_count": 10,
     "metadata": {},
     "output_type": "execute_result"
    }
   ],
   "source": [
    "deck[:3]"
   ]
  },
  {
   "cell_type": "markdown",
   "id": "8436455b",
   "metadata": {},
   "source": [
    "Aside: In this context, we don't get the string generated by `__str__`; we get the one generated by `__repr__` (read about that [here](https://docs.python.org/3/reference/datamodel.html#basic-customization)) \n",
    "\n",
    "Because `FrenchDeck` provides `__len__` and `__getitem__`, it is considered a sequence, which means that the `in` operator works:"
   ]
  },
  {
   "cell_type": "code",
   "execution_count": 11,
   "id": "9cd61a8c",
   "metadata": {},
   "outputs": [
    {
     "data": {
      "text/plain": [
       "True"
      ]
     },
     "execution_count": 11,
     "metadata": {},
     "output_type": "execute_result"
    }
   ],
   "source": [
    "Card('Q', 'hearts') in deck"
   ]
  },
  {
   "cell_type": "markdown",
   "id": "8dcd2565",
   "metadata": {},
   "source": [
    "**Exercise** Make up a card that doesn't exist and confirm that `in` returns `False`."
   ]
  },
  {
   "cell_type": "code",
   "execution_count": 12,
   "id": "a22587e9",
   "metadata": {},
   "outputs": [],
   "source": [
    "# Solution goes here"
   ]
  },
  {
   "cell_type": "markdown",
   "id": "20cec6b8",
   "metadata": {},
   "source": [
    "And the for loop works, too:"
   ]
  },
  {
   "cell_type": "code",
   "execution_count": 13,
   "id": "c0dc0afc",
   "metadata": {},
   "outputs": [
    {
     "name": "stdout",
     "output_type": "stream",
     "text": [
      "2 of spades\n",
      "3 of spades\n",
      "4 of spades\n",
      "5 of spades\n",
      "6 of spades\n",
      "7 of spades\n",
      "8 of spades\n",
      "9 of spades\n",
      "10 of spades\n",
      "J of spades\n",
      "Q of spades\n",
      "K of spades\n",
      "A of spades\n",
      "2 of diamonds\n",
      "3 of diamonds\n",
      "4 of diamonds\n",
      "5 of diamonds\n",
      "6 of diamonds\n",
      "7 of diamonds\n",
      "8 of diamonds\n",
      "9 of diamonds\n",
      "10 of diamonds\n",
      "J of diamonds\n",
      "Q of diamonds\n",
      "K of diamonds\n",
      "A of diamonds\n",
      "2 of clubs\n",
      "3 of clubs\n",
      "4 of clubs\n",
      "5 of clubs\n",
      "6 of clubs\n",
      "7 of clubs\n",
      "8 of clubs\n",
      "9 of clubs\n",
      "10 of clubs\n",
      "J of clubs\n",
      "Q of clubs\n",
      "K of clubs\n",
      "A of clubs\n",
      "2 of hearts\n",
      "3 of hearts\n",
      "4 of hearts\n",
      "5 of hearts\n",
      "6 of hearts\n",
      "7 of hearts\n",
      "8 of hearts\n",
      "9 of hearts\n",
      "10 of hearts\n",
      "J of hearts\n",
      "Q of hearts\n",
      "K of hearts\n",
      "A of hearts\n"
     ]
    }
   ],
   "source": [
    "for card in deck:\n",
    "    print(card)"
   ]
  },
  {
   "cell_type": "markdown",
   "id": "bd516e84",
   "metadata": {},
   "source": [
    "Other methods that work with sequences, like `random.choice`, will work with decks:"
   ]
  },
  {
   "cell_type": "code",
   "execution_count": 14,
   "id": "6769a93c",
   "metadata": {},
   "outputs": [
    {
     "data": {
      "text/plain": [
       "Card(rank='3', suit='hearts')"
      ]
     },
     "execution_count": 14,
     "metadata": {},
     "output_type": "execute_result"
    }
   ],
   "source": [
    "from random import choice\n",
    "choice(deck)"
   ]
  },
  {
   "cell_type": "markdown",
   "id": "d4607555",
   "metadata": {},
   "source": [
    "Sadly, `shuffle` doesn't work because we haven't provided `__setitem__`, so a deck is an immutable sequence:"
   ]
  },
  {
   "cell_type": "code",
   "execution_count": 15,
   "id": "532acbb6",
   "metadata": {},
   "outputs": [
    {
     "ename": "TypeError",
     "evalue": "'FrenchDeck' object does not support item assignment",
     "output_type": "error",
     "traceback": [
      "\u001b[0;31m---------------------------------------------------------------------------\u001b[0m",
      "\u001b[0;31mTypeError\u001b[0m                                 Traceback (most recent call last)",
      "Cell \u001b[0;32mIn[15], line 4\u001b[0m\n\u001b[1;32m      1\u001b[0m \u001b[38;5;28;01mfrom\u001b[39;00m \u001b[38;5;21;01mrandom\u001b[39;00m \u001b[38;5;28;01mimport\u001b[39;00m shuffle\n\u001b[1;32m      3\u001b[0m \u001b[38;5;66;03m# This should raise a TypeError\u001b[39;00m\n\u001b[0;32m----> 4\u001b[0m \u001b[43mshuffle\u001b[49m\u001b[43m(\u001b[49m\u001b[43mdeck\u001b[49m\u001b[43m)\u001b[49m\n",
      "File \u001b[0;32m/Library/Frameworks/Python.framework/Versions/3.11/lib/python3.11/random.py:380\u001b[0m, in \u001b[0;36mRandom.shuffle\u001b[0;34m(self, x)\u001b[0m\n\u001b[1;32m    377\u001b[0m \u001b[38;5;28;01mfor\u001b[39;00m i \u001b[38;5;129;01min\u001b[39;00m \u001b[38;5;28mreversed\u001b[39m(\u001b[38;5;28mrange\u001b[39m(\u001b[38;5;241m1\u001b[39m, \u001b[38;5;28mlen\u001b[39m(x))):\n\u001b[1;32m    378\u001b[0m     \u001b[38;5;66;03m# pick an element in x[:i+1] with which to exchange x[i]\u001b[39;00m\n\u001b[1;32m    379\u001b[0m     j \u001b[38;5;241m=\u001b[39m randbelow(i \u001b[38;5;241m+\u001b[39m \u001b[38;5;241m1\u001b[39m)\n\u001b[0;32m--> 380\u001b[0m     \u001b[43mx\u001b[49m\u001b[43m[\u001b[49m\u001b[43mi\u001b[49m\u001b[43m]\u001b[49m, x[j] \u001b[38;5;241m=\u001b[39m x[j], x[i]\n",
      "\u001b[0;31mTypeError\u001b[0m: 'FrenchDeck' object does not support item assignment"
     ]
    }
   ],
   "source": [
    "from random import shuffle\n",
    "\n",
    "# This should raise a TypeError\n",
    "shuffle(deck)"
   ]
  },
  {
   "cell_type": "markdown",
   "id": "1a86bf8e",
   "metadata": {},
   "source": [
    "We can use `sorted` to iterate through the cards in the order determined by tuple comparison:"
   ]
  },
  {
   "cell_type": "code",
   "execution_count": null,
   "id": "6190c00d",
   "metadata": {},
   "outputs": [],
   "source": [
    "for card in sorted(deck):\n",
    "    print(card)"
   ]
  },
  {
   "cell_type": "markdown",
   "id": "42bac4c6",
   "metadata": {},
   "source": [
    "If we want an ordering that makes more sense for cards, we can define a function that maps from a card to an integer:"
   ]
  },
  {
   "cell_type": "code",
   "execution_count": null,
   "id": "d5ff533e",
   "metadata": {},
   "outputs": [],
   "source": [
    "suit_values = dict(spades=3, hearts=2, diamonds=1, clubs=0)\n",
    "\n",
    "def spades_high_ordering(card):\n",
    "    rank_value = FrenchDeck.ranks.index(card.rank)\n",
    "    return rank_value * len(suit_values) + suit_values[card.suit]"
   ]
  },
  {
   "cell_type": "code",
   "execution_count": null,
   "id": "aafe58e2",
   "metadata": {},
   "outputs": [],
   "source": [
    "spades_high_ordering(Card('2', 'clubs'))"
   ]
  },
  {
   "cell_type": "code",
   "execution_count": null,
   "id": "0f4b2395",
   "metadata": {},
   "outputs": [],
   "source": [
    "spades_high_ordering(Card('A', 'spades'))"
   ]
  },
  {
   "cell_type": "markdown",
   "id": "85198ed8",
   "metadata": {},
   "source": [
    "And then pass this funcition as a key to `sorted`:"
   ]
  },
  {
   "cell_type": "code",
   "execution_count": null,
   "id": "d7f7a8cf",
   "metadata": {},
   "outputs": [],
   "source": [
    "for card in sorted(deck, key=spades_high_ordering):\n",
    "    print(card)"
   ]
  },
  {
   "cell_type": "markdown",
   "id": "52ed3059",
   "metadata": {},
   "source": [
    "**Exercise**  Define a new ordering that sorts the cards by suit first and then by rank, so all clubs come first, followed by all diamonds, etc."
   ]
  },
  {
   "cell_type": "code",
   "execution_count": null,
   "id": "b3a7e102",
   "metadata": {},
   "outputs": [],
   "source": [
    "# Solution goes here"
   ]
  },
  {
   "cell_type": "markdown",
   "id": "efe14ef8",
   "metadata": {},
   "source": [
    "**Exercise**  Write a method called `setcard` that takes a deck, an index, and a card, and assigns the card to the deck at the given position.  Then monkey-patch `FrenchDeck` to provide `__setitem__` as a method.  Test it by assigning a new card like this:\n",
    "\n",
    "    deck[0] = Card('A', 'spades')\n",
    "\n",
    "Then shuffle the deck using `random.shuffle`."
   ]
  },
  {
   "cell_type": "code",
   "execution_count": null,
   "id": "ffa1f986",
   "metadata": {},
   "outputs": [],
   "source": [
    "# Solution goes here"
   ]
  },
  {
   "cell_type": "markdown",
   "id": "b23d6075",
   "metadata": {},
   "source": [
    "We should have two Aces of spades now, which we can confirm by checking the number of unique cards:"
   ]
  },
  {
   "cell_type": "code",
   "execution_count": null,
   "id": "092a7ed7",
   "metadata": {},
   "outputs": [],
   "source": [
    "len(set(deck))"
   ]
  },
  {
   "cell_type": "code",
   "execution_count": null,
   "id": "c919340b",
   "metadata": {},
   "outputs": [],
   "source": []
  }
 ],
 "metadata": {
  "kernelspec": {
   "display_name": "Python 3 (ipykernel)",
   "language": "python",
   "name": "python3"
  },
  "language_info": {
   "codemirror_mode": {
    "name": "ipython",
    "version": 3
   },
   "file_extension": ".py",
   "mimetype": "text/x-python",
   "name": "python",
   "nbconvert_exporter": "python",
   "pygments_lexer": "ipython3",
   "version": "3.11.1"
  }
 },
 "nbformat": 4,
 "nbformat_minor": 5
}
