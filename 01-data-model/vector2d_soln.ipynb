{
 "cells": [
  {
   "cell_type": "markdown",
   "id": "f79d3daf",
   "metadata": {},
   "source": [
    "### 2-D Vectors\n",
    "\n",
    "This notebook contains example code from [*Fluent Python*](http://shop.oreilly.com/product/0636920032519.do), by Luciano Ramalho.\n",
    "\n",
    "Code by Luciano Ramalho, modified by Allen Downey.\n",
    "\n",
    "MIT License: https://opensource.org/licenses/MIT"
   ]
  },
  {
   "cell_type": "markdown",
   "id": "1642a1df",
   "metadata": {},
   "source": [
    "This example demonstrates how a user-defined type can emulate a numeric type by providing special methods.\n",
    "\n",
    "`Vector` represents a 2-D Euclidean vector:"
   ]
  },
  {
   "cell_type": "code",
   "execution_count": null,
   "id": "9cfa7e90",
   "metadata": {
    "collapsed": true
   },
   "outputs": [],
   "source": [
    "from math import hypot\n",
    "\n",
    "class Vector:\n",
    "\n",
    "    def __init__(self, x=0, y=0):\n",
    "        self.x = x\n",
    "        self.y = y\n",
    "\n",
    "    def __repr__(self):\n",
    "        return 'Vector(%r, %r)' % (self.x, self.y)\n",
    "\n",
    "    def __abs__(self):\n",
    "        return hypot(self.x, self.y)\n",
    "\n",
    "    def __bool__(self):\n",
    "        return bool(abs(self))\n",
    "\n",
    "    def __add__(self, other):\n",
    "        x = self.x + other.x\n",
    "        y = self.y + other.y\n",
    "        return Vector(x, y)\n",
    "\n",
    "    def __mul__(self, scalar):\n",
    "        return Vector(self.x * scalar, self.y * scalar)"
   ]
  },
  {
   "cell_type": "markdown",
   "id": "0f3c393b",
   "metadata": {},
   "source": [
    "Because `Vector` provides `__add__`, we can use the `+` operator to add Vectors."
   ]
  },
  {
   "cell_type": "code",
   "execution_count": null,
   "id": "ba142e1d",
   "metadata": {},
   "outputs": [],
   "source": [
    "v1 = Vector(2, 4)\n",
    "v2 = Vector(2, 1)\n",
    "v1 + v2"
   ]
  },
  {
   "cell_type": "markdown",
   "id": "39a29783",
   "metadata": {},
   "source": [
    "And because it provides `__abs__`, we can use the built-in method `abs`.  For Euclidean vectors, the \"absolute value\" is the magnitude; for 2-D vectors, the magnitude is the hypoteneuse of the two components:"
   ]
  },
  {
   "cell_type": "code",
   "execution_count": null,
   "id": "8d3024d9",
   "metadata": {},
   "outputs": [],
   "source": [
    "v = Vector(3, 4)\n",
    "abs(v)"
   ]
  },
  {
   "cell_type": "markdown",
   "id": "cdb127ae",
   "metadata": {},
   "source": [
    "`Vector` provides `__mul__`, so we can use the `*` operator."
   ]
  },
  {
   "cell_type": "code",
   "execution_count": null,
   "id": "6ba34b89",
   "metadata": {},
   "outputs": [],
   "source": [
    "v * 3"
   ]
  },
  {
   "cell_type": "markdown",
   "id": "9d092330",
   "metadata": {},
   "source": [
    "But `__mul__` only supports scalar multiplication.\n",
    "\n",
    "**Exercise** What happens if you try to multiply two vectors?"
   ]
  },
  {
   "cell_type": "code",
   "execution_count": null,
   "id": "0eb9758a",
   "metadata": {},
   "outputs": [],
   "source": [
    "# Solution\n",
    "\n",
    "v * v"
   ]
  },
  {
   "cell_type": "markdown",
   "id": "23d38ade",
   "metadata": {},
   "source": [
    "`Vector` defines `__repr__`, which returns a string representation of the object:"
   ]
  },
  {
   "cell_type": "code",
   "execution_count": null,
   "id": "787f4113",
   "metadata": {},
   "outputs": [],
   "source": [
    "repr(v)"
   ]
  },
  {
   "cell_type": "markdown",
   "id": "5f487103",
   "metadata": {},
   "source": [
    "Because `Vector` does not provide `__str__`, Python uses `__repr__`:"
   ]
  },
  {
   "cell_type": "code",
   "execution_count": null,
   "id": "2ad9bcc0",
   "metadata": {},
   "outputs": [],
   "source": [
    "str(v)"
   ]
  },
  {
   "cell_type": "markdown",
   "id": "6edd234e",
   "metadata": {},
   "source": [
    "So what's the difference?  `str` is meant to return a human-readable representation of the object.  `repr` should return a string that can be evaluated to re-create the object.\n",
    "\n",
    "If the same representation can perform both roles, you can just define `__repr__`."
   ]
  },
  {
   "cell_type": "markdown",
   "id": "2ed92ee8",
   "metadata": {},
   "source": [
    "`Vector` implements `__bool__`, so it can be used in a context where it has to be converted to `boolean`:"
   ]
  },
  {
   "cell_type": "code",
   "execution_count": null,
   "id": "bf4c1c65",
   "metadata": {},
   "outputs": [],
   "source": [
    "if v:\n",
    "    print(v)"
   ]
  },
  {
   "cell_type": "markdown",
   "id": "a388a797",
   "metadata": {},
   "source": [
    "If the magnitude is 0, the Vector is considered `False`:"
   ]
  },
  {
   "cell_type": "code",
   "execution_count": null,
   "id": "a2accdd9",
   "metadata": {},
   "outputs": [],
   "source": [
    "if Vector(0, 0):\n",
    "    print(\"Won't happen.\")"
   ]
  },
  {
   "cell_type": "markdown",
   "id": "266bfddc",
   "metadata": {},
   "source": [
    "**Exercise** Create a class called `SubVector` that extends `Vector` and provides `__sub__`.  Test that you can use the `-` operator with `SubVector`.\n",
    "\n",
    "What happens if you subtract a `Vector` from a `SubVector`?  How about the other way around?"
   ]
  },
  {
   "cell_type": "code",
   "execution_count": null,
   "id": "fce8d80d",
   "metadata": {},
   "outputs": [],
   "source": [
    "# Solution\n",
    "\n",
    "class SubVector(Vector):\n",
    "\n",
    "    def __sub__(self, other):\n",
    "        x = self.x - other.x\n",
    "        y = self.y - other.y\n",
    "        return SubVector(x, y)"
   ]
  },
  {
   "cell_type": "code",
   "execution_count": null,
   "id": "e6dfac21",
   "metadata": {},
   "outputs": [],
   "source": [
    "# Solution\n",
    "\n",
    "v3 = SubVector(5, 6)\n",
    "v4 = SubVector(7, 8)\n",
    "\n",
    "v4 - v3"
   ]
  },
  {
   "cell_type": "code",
   "execution_count": null,
   "id": "b55ade33",
   "metadata": {},
   "outputs": [],
   "source": [
    "# Solution\n",
    "\n",
    "v4 - v2"
   ]
  },
  {
   "cell_type": "code",
   "execution_count": null,
   "id": "e6c438ed",
   "metadata": {},
   "outputs": [],
   "source": [
    "# Solution\n",
    "\n",
    "v2 - v4"
   ]
  },
  {
   "cell_type": "code",
   "execution_count": null,
   "id": "f9837255",
   "metadata": {
    "collapsed": true
   },
   "outputs": [],
   "source": []
  }
 ],
 "metadata": {
  "kernelspec": {
   "display_name": "Python 3 (ipykernel)",
   "language": "python",
   "name": "python3"
  },
  "language_info": {
   "codemirror_mode": {
    "name": "ipython",
    "version": 3
   },
   "file_extension": ".py",
   "mimetype": "text/x-python",
   "name": "python",
   "nbconvert_exporter": "python",
   "pygments_lexer": "ipython3",
   "version": "3.11.1"
  }
 },
 "nbformat": 4,
 "nbformat_minor": 5
}
