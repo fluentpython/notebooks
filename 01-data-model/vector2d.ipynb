{
 "cells": [
  {
   "cell_type": "markdown",
   "id": "e3a55787",
   "metadata": {},
   "source": [
    "### 2-D Vectors\n",
    "\n",
    "This notebook contains example code from [*Fluent Python*](http://shop.oreilly.com/product/0636920032519.do), by Luciano Ramalho.\n",
    "\n",
    "Code by Luciano Ramalho, modified by Allen Downey.\n",
    "\n",
    "MIT License: https://opensource.org/licenses/MIT"
   ]
  },
  {
   "cell_type": "markdown",
   "id": "341f33dd",
   "metadata": {},
   "source": [
    "This example demonstrates how a user-defined type can emulate a numeric type by providing special methods.\n",
    "\n",
    "`Vector` represents a 2-D Euclidean vector:"
   ]
  },
  {
   "cell_type": "code",
   "execution_count": null,
   "id": "dfc4c2fc",
   "metadata": {
    "collapsed": true
   },
   "outputs": [],
   "source": [
    "from math import hypot\n",
    "\n",
    "class Vector:\n",
    "\n",
    "    def __init__(self, x=0, y=0):\n",
    "        self.x = x\n",
    "        self.y = y\n",
    "\n",
    "    def __repr__(self):\n",
    "        return 'Vector(%r, %r)' % (self.x, self.y)\n",
    "\n",
    "    def __abs__(self):\n",
    "        return hypot(self.x, self.y)\n",
    "\n",
    "    def __bool__(self):\n",
    "        return bool(abs(self))\n",
    "\n",
    "    def __add__(self, other):\n",
    "        x = self.x + other.x\n",
    "        y = self.y + other.y\n",
    "        return Vector(x, y)\n",
    "\n",
    "    def __mul__(self, scalar):\n",
    "        return Vector(self.x * scalar, self.y * scalar)"
   ]
  },
  {
   "cell_type": "markdown",
   "id": "1a9472ca",
   "metadata": {},
   "source": [
    "Because `Vector` provides `__add__`, we can use the `+` operator to add Vectors."
   ]
  },
  {
   "cell_type": "code",
   "execution_count": null,
   "id": "ea8da064",
   "metadata": {},
   "outputs": [],
   "source": [
    "v1 = Vector(2, 4)\n",
    "v2 = Vector(2, 1)\n",
    "v1 + v2"
   ]
  },
  {
   "cell_type": "markdown",
   "id": "dc4b62ce",
   "metadata": {},
   "source": [
    "And because it provides `__abs__`, we can use the built-in method `abs`.  For Euclidean vectors, the \"absolute value\" is the magnitude; for 2-D vectors, the magnitude is the hypoteneuse of the two components:"
   ]
  },
  {
   "cell_type": "code",
   "execution_count": null,
   "id": "51fcb372",
   "metadata": {},
   "outputs": [],
   "source": [
    "v = Vector(3, 4)\n",
    "abs(v)"
   ]
  },
  {
   "cell_type": "markdown",
   "id": "2c821fae",
   "metadata": {},
   "source": [
    "`Vector` provides `__mul__`, so we can use the `*` operator."
   ]
  },
  {
   "cell_type": "code",
   "execution_count": null,
   "id": "32a96cc4",
   "metadata": {},
   "outputs": [],
   "source": [
    "v * 3"
   ]
  },
  {
   "cell_type": "markdown",
   "id": "8793137c",
   "metadata": {},
   "source": [
    "But `__mul__` only supports scalar multiplication.\n",
    "\n",
    "**Exercise** What happens if you try to multiply two vectors?"
   ]
  },
  {
   "cell_type": "code",
   "execution_count": null,
   "id": "2bdd4c4c",
   "metadata": {},
   "outputs": [],
   "source": [
    "# Solution goes here"
   ]
  },
  {
   "cell_type": "markdown",
   "id": "fce039e2",
   "metadata": {},
   "source": [
    "`Vector` defines `__repr__`, which returns a string representation of the object:"
   ]
  },
  {
   "cell_type": "code",
   "execution_count": null,
   "id": "e3f7cf9b",
   "metadata": {},
   "outputs": [],
   "source": [
    "repr(v)"
   ]
  },
  {
   "cell_type": "markdown",
   "id": "5bf832cf",
   "metadata": {},
   "source": [
    "Because `Vector` does not provide `__str__`, Python uses `__repr__`:"
   ]
  },
  {
   "cell_type": "code",
   "execution_count": null,
   "id": "0841b67b",
   "metadata": {},
   "outputs": [],
   "source": [
    "str(v)"
   ]
  },
  {
   "cell_type": "markdown",
   "id": "1f718dff",
   "metadata": {},
   "source": [
    "So what's the difference?  `str` is meant to return a human-readable representation of the object.  `repr` should return a string that can be evaluated to re-create the object.\n",
    "\n",
    "If the same representation can perform both roles, you can just define `__repr__`."
   ]
  },
  {
   "cell_type": "markdown",
   "id": "22a74b4d",
   "metadata": {},
   "source": [
    "`Vector` implements `__bool__`, so it can be used in a context where it has to be converted to `boolean`:"
   ]
  },
  {
   "cell_type": "code",
   "execution_count": null,
   "id": "509f464a",
   "metadata": {},
   "outputs": [],
   "source": [
    "if v:\n",
    "    print(v)"
   ]
  },
  {
   "cell_type": "markdown",
   "id": "4f0edc15",
   "metadata": {},
   "source": [
    "If the magnitude is 0, the Vector is considered `False`:"
   ]
  },
  {
   "cell_type": "code",
   "execution_count": null,
   "id": "94bfe837",
   "metadata": {},
   "outputs": [],
   "source": [
    "if Vector(0, 0):\n",
    "    print(\"Won't happen.\")"
   ]
  },
  {
   "cell_type": "markdown",
   "id": "9246a3c5",
   "metadata": {},
   "source": [
    "**Exercise** Create a class called `SubVector` that extends `Vector` and provides `__sub__`.  Test that you can use the `-` operator with `SubVector`.\n",
    "\n",
    "What happens if you subtract a `Vector` from a `SubVector`?  How about the other way around?"
   ]
  },
  {
   "cell_type": "code",
   "execution_count": null,
   "id": "7cb4b655",
   "metadata": {},
   "outputs": [],
   "source": [
    "# Solution goes here"
   ]
  },
  {
   "cell_type": "code",
   "execution_count": null,
   "id": "dddf76a3",
   "metadata": {},
   "outputs": [],
   "source": [
    "# Solution goes here"
   ]
  },
  {
   "cell_type": "code",
   "execution_count": null,
   "id": "84eac127",
   "metadata": {},
   "outputs": [],
   "source": [
    "# Solution goes here"
   ]
  },
  {
   "cell_type": "code",
   "execution_count": null,
   "id": "0c0436b4",
   "metadata": {},
   "outputs": [],
   "source": [
    "# Solution goes here"
   ]
  },
  {
   "cell_type": "code",
   "execution_count": null,
   "id": "507c04a3",
   "metadata": {
    "collapsed": true
   },
   "outputs": [],
   "source": []
  }
 ],
 "metadata": {
  "kernelspec": {
   "display_name": "Python 3 (ipykernel)",
   "language": "python",
   "name": "python3"
  },
  "language_info": {
   "codemirror_mode": {
    "name": "ipython",
    "version": 3
   },
   "file_extension": ".py",
   "mimetype": "text/x-python",
   "name": "python",
   "nbconvert_exporter": "python",
   "pygments_lexer": "ipython3",
   "version": "3.11.1"
  }
 },
 "nbformat": 4,
 "nbformat_minor": 5
}
